{
 "cells": [
  {
   "cell_type": "code",
   "execution_count": 1,
   "id": "7019f6a0",
   "metadata": {},
   "outputs": [],
   "source": [
    "import pandas as pd\n",
    "import numpy as np\n",
    "from sklearn.impute import KNNImputer\n",
    "from sklearn.ensemble import RandomForestRegressor\n",
    "from sklearn.metrics import r2_score\n",
    "from sklearn.model_selection import cross_val_score\n",
    "from sklearn.metrics import mean_squared_error\n",
    "from sklearn.model_selection import RandomizedSearchCV"
   ]
  },
  {
   "cell_type": "code",
   "execution_count": 2,
   "id": "e40e1dd0",
   "metadata": {},
   "outputs": [],
   "source": [
    "cleaned_X_train = pd.read_csv('cleaned_X_train.csv')\n",
    "cleaned_X_test = pd.read_csv('cleaned_X_test.csv')\n",
    "cleaned_y_train = pd.read_csv('cleaned_y_train.csv')\n",
    "cleaned_y_test = pd.read_csv('cleaned_y_test.csv')"
   ]
  },
  {
   "cell_type": "code",
   "execution_count": 3,
   "id": "4c381dc7",
   "metadata": {},
   "outputs": [
    {
     "name": "stdout",
     "output_type": "stream",
     "text": [
      "<class 'pandas.core.frame.DataFrame'>\n",
      "RangeIndex: 80925 entries, 0 to 80924\n",
      "Data columns (total 15 columns):\n",
      " #   Column               Non-Null Count  Dtype  \n",
      "---  ------               --------------  -----  \n",
      " 0   year                 80925 non-null  int64  \n",
      " 1   month                80925 non-null  int64  \n",
      " 2   carrier_name         80925 non-null  int64  \n",
      " 3   arr_flights          80925 non-null  float64\n",
      " 4   arr_del15            80772 non-null  float64\n",
      " 5   carrier_ct           80925 non-null  float64\n",
      " 6   weather_ct           80925 non-null  float64\n",
      " 7   nas_ct               80925 non-null  float64\n",
      " 8   late_aircraft_ct     80925 non-null  float64\n",
      " 9   arr_diverted         80925 non-null  float64\n",
      " 10  carrier_delay        80925 non-null  float64\n",
      " 11  weather_delay        80925 non-null  float64\n",
      " 12  nas_delay            80925 non-null  float64\n",
      " 13  late_aircraft_delay  80925 non-null  float64\n",
      " 14  country              80925 non-null  int64  \n",
      "dtypes: float64(11), int64(4)\n",
      "memory usage: 9.3 MB\n"
     ]
    }
   ],
   "source": [
    "cleaned_X_train.info()"
   ]
  },
  {
   "cell_type": "code",
   "execution_count": 4,
   "id": "d55cbe40",
   "metadata": {},
   "outputs": [],
   "source": [
    "imputer = KNNImputer(n_neighbors=5)"
   ]
  },
  {
   "cell_type": "code",
   "execution_count": 5,
   "id": "c06155ec",
   "metadata": {},
   "outputs": [],
   "source": [
    "cleaned_X_train = imputer.fit_transform(cleaned_X_train)\n",
    "cleaned_X_test = imputer.transform(cleaned_X_test)"
   ]
  },
  {
   "cell_type": "code",
   "execution_count": 6,
   "id": "dd1fca25",
   "metadata": {},
   "outputs": [],
   "source": [
    "cleaned_X_train = pd.DataFrame(cleaned_X_train, columns=['year', 'month', 'carrier_name', 'arr_flights', 'arr_del15','carrier_ct', 'weather_ct', 'nas_ct', 'late_aircraft_ct', 'arr_diverted', 'carrier_delay', 'weather_delay', 'nas_delay', 'late_aircraft_delay', 'country'])\n",
    "cleaned_X_test = pd.DataFrame(cleaned_X_test, columns=['year', 'month', 'carrier_name', 'arr_flights', 'arr_del15','carrier_ct', 'weather_ct', 'nas_ct', 'late_aircraft_ct', 'arr_diverted', 'carrier_delay', 'weather_delay', 'nas_delay', 'late_aircraft_delay', 'country'])"
   ]
  },
  {
   "cell_type": "code",
   "execution_count": 7,
   "id": "21779c0a",
   "metadata": {},
   "outputs": [],
   "source": [
    "RFR = RandomForestRegressor(n_estimators= 80, min_samples_split= 2, max_features= 'auto', max_depth= 100, bootstrap= True)"
   ]
  },
  {
   "cell_type": "code",
   "execution_count": 8,
   "id": "eb90c571",
   "metadata": {},
   "outputs": [
    {
     "name": "stderr",
     "output_type": "stream",
     "text": [
      "C:\\Users\\Anind\\AppData\\Local\\Temp\\ipykernel_3164\\2360721454.py:1: DataConversionWarning: A column-vector y was passed when a 1d array was expected. Please change the shape of y to (n_samples,), for example using ravel().\n",
      "  RFR.fit(cleaned_X_train, cleaned_y_train)\n"
     ]
    },
    {
     "data": {
      "text/plain": [
       "RandomForestRegressor(max_depth=100, n_estimators=80)"
      ]
     },
     "execution_count": 8,
     "metadata": {},
     "output_type": "execute_result"
    }
   ],
   "source": [
    "RFR.fit(cleaned_X_train, cleaned_y_train)"
   ]
  },
  {
   "cell_type": "code",
   "execution_count": 9,
   "id": "f4e36600",
   "metadata": {},
   "outputs": [],
   "source": [
    "y_pred = RFR.predict(cleaned_X_test)"
   ]
  },
  {
   "cell_type": "code",
   "execution_count": 10,
   "id": "4333b481",
   "metadata": {},
   "outputs": [
    {
     "name": "stdout",
     "output_type": "stream",
     "text": [
      "R2:  0.9952328485472485\n"
     ]
    }
   ],
   "source": [
    "print(\"R2: \", r2_score(cleaned_y_test, y_pred))"
   ]
  },
  {
   "cell_type": "code",
   "execution_count": 11,
   "id": "2646ee9e",
   "metadata": {},
   "outputs": [
    {
     "name": "stdout",
     "output_type": "stream",
     "text": [
      "(101157, 1)\n"
     ]
    }
   ],
   "source": [
    "X = pd.concat([cleaned_X_train, cleaned_X_test])\n",
    "y = pd.concat([cleaned_y_train, cleaned_y_test])\n",
    "print(y.shape)"
   ]
  },
  {
   "cell_type": "code",
   "execution_count": 12,
   "id": "b9a79a04",
   "metadata": {},
   "outputs": [
    {
     "name": "stderr",
     "output_type": "stream",
     "text": [
      "C:\\Users\\Anind\\anaconda3\\lib\\site-packages\\sklearn\\model_selection\\_validation.py:680: DataConversionWarning: A column-vector y was passed when a 1d array was expected. Please change the shape of y to (n_samples,), for example using ravel().\n",
      "  estimator.fit(X_train, y_train, **fit_params)\n",
      "C:\\Users\\Anind\\anaconda3\\lib\\site-packages\\sklearn\\model_selection\\_validation.py:680: DataConversionWarning: A column-vector y was passed when a 1d array was expected. Please change the shape of y to (n_samples,), for example using ravel().\n",
      "  estimator.fit(X_train, y_train, **fit_params)\n",
      "C:\\Users\\Anind\\anaconda3\\lib\\site-packages\\sklearn\\model_selection\\_validation.py:680: DataConversionWarning: A column-vector y was passed when a 1d array was expected. Please change the shape of y to (n_samples,), for example using ravel().\n",
      "  estimator.fit(X_train, y_train, **fit_params)\n",
      "C:\\Users\\Anind\\anaconda3\\lib\\site-packages\\sklearn\\model_selection\\_validation.py:680: DataConversionWarning: A column-vector y was passed when a 1d array was expected. Please change the shape of y to (n_samples,), for example using ravel().\n",
      "  estimator.fit(X_train, y_train, **fit_params)\n",
      "C:\\Users\\Anind\\anaconda3\\lib\\site-packages\\sklearn\\model_selection\\_validation.py:680: DataConversionWarning: A column-vector y was passed when a 1d array was expected. Please change the shape of y to (n_samples,), for example using ravel().\n",
      "  estimator.fit(X_train, y_train, **fit_params)\n",
      "C:\\Users\\Anind\\anaconda3\\lib\\site-packages\\sklearn\\model_selection\\_validation.py:680: DataConversionWarning: A column-vector y was passed when a 1d array was expected. Please change the shape of y to (n_samples,), for example using ravel().\n",
      "  estimator.fit(X_train, y_train, **fit_params)\n",
      "C:\\Users\\Anind\\anaconda3\\lib\\site-packages\\sklearn\\model_selection\\_validation.py:680: DataConversionWarning: A column-vector y was passed when a 1d array was expected. Please change the shape of y to (n_samples,), for example using ravel().\n",
      "  estimator.fit(X_train, y_train, **fit_params)\n",
      "C:\\Users\\Anind\\anaconda3\\lib\\site-packages\\sklearn\\model_selection\\_validation.py:680: DataConversionWarning: A column-vector y was passed when a 1d array was expected. Please change the shape of y to (n_samples,), for example using ravel().\n",
      "  estimator.fit(X_train, y_train, **fit_params)\n",
      "C:\\Users\\Anind\\anaconda3\\lib\\site-packages\\sklearn\\model_selection\\_validation.py:680: DataConversionWarning: A column-vector y was passed when a 1d array was expected. Please change the shape of y to (n_samples,), for example using ravel().\n",
      "  estimator.fit(X_train, y_train, **fit_params)\n",
      "C:\\Users\\Anind\\anaconda3\\lib\\site-packages\\sklearn\\model_selection\\_validation.py:680: DataConversionWarning: A column-vector y was passed when a 1d array was expected. Please change the shape of y to (n_samples,), for example using ravel().\n",
      "  estimator.fit(X_train, y_train, **fit_params)\n"
     ]
    }
   ],
   "source": [
    " scores = np.mean(cross_val_score(RFR, X, y, cv=10, scoring='r2'))"
   ]
  },
  {
   "cell_type": "code",
   "execution_count": 13,
   "id": "3480ab9a",
   "metadata": {},
   "outputs": [
    {
     "name": "stdout",
     "output_type": "stream",
     "text": [
      "Cross_val_score:  0.994450896559292\n"
     ]
    }
   ],
   "source": [
    "print(\"Cross_val_score: \", scores)"
   ]
  },
  {
   "cell_type": "code",
   "execution_count": 14,
   "id": "c327f9ef",
   "metadata": {},
   "outputs": [
    {
     "name": "stdout",
     "output_type": "stream",
     "text": [
      "RMSE:  765.2171802034122\n"
     ]
    }
   ],
   "source": [
    "print(\"RMSE: \", np.sqrt(mean_squared_error(cleaned_y_test, y_pred)))"
   ]
  },
  {
   "cell_type": "code",
   "execution_count": 15,
   "id": "b077fb7f",
   "metadata": {},
   "outputs": [],
   "source": [
    "# params = {'bootstrap': [True, False],\n",
    "#           'max_depth': [10, 30, 50, 80, 100, None],\n",
    "#           'max_features': ['auto', 'sqrt'],\n",
    "#           'min_samples_split': [2, 5, 10],\n",
    "#           'n_estimators': [20, 80, 100, 120, 300]}"
   ]
  },
  {
   "cell_type": "code",
   "execution_count": 16,
   "id": "84795cee",
   "metadata": {},
   "outputs": [],
   "source": [
    "#rf_random = RandomizedSearchCV(estimator = RFR, param_distributions  = params, cv = 5, verbose=3, n_jobs = -1)"
   ]
  },
  {
   "cell_type": "code",
   "execution_count": 17,
   "id": "647d2403",
   "metadata": {},
   "outputs": [],
   "source": [
    "#rf_random.fit(cleaned_X_train, cleaned_y_train)"
   ]
  },
  {
   "cell_type": "code",
   "execution_count": 18,
   "id": "1ebdcb12",
   "metadata": {},
   "outputs": [],
   "source": [
    "#rf_random.best_params_"
   ]
  },
  {
   "cell_type": "code",
   "execution_count": 19,
   "id": "f85e47c6",
   "metadata": {},
   "outputs": [],
   "source": [
    "#rf_random.best_score_"
   ]
  },
  {
   "cell_type": "code",
   "execution_count": 20,
   "id": "4f20d6e1",
   "metadata": {},
   "outputs": [],
   "source": [
    "from joblib import dump"
   ]
  },
  {
   "cell_type": "code",
   "execution_count": 21,
   "id": "48d995b1",
   "metadata": {},
   "outputs": [
    {
     "data": {
      "text/plain": [
       "['Flight_delay_prediction model.joblib']"
      ]
     },
     "execution_count": 21,
     "metadata": {},
     "output_type": "execute_result"
    }
   ],
   "source": [
    "dump(RFR, 'Flight_delay_prediction model.joblib')"
   ]
  },
  {
   "cell_type": "code",
   "execution_count": null,
   "id": "22ffe7cf",
   "metadata": {},
   "outputs": [],
   "source": []
  }
 ],
 "metadata": {
  "kernelspec": {
   "display_name": "Python 3 (ipykernel)",
   "language": "python",
   "name": "python3"
  },
  "language_info": {
   "codemirror_mode": {
    "name": "ipython",
    "version": 3
   },
   "file_extension": ".py",
   "mimetype": "text/x-python",
   "name": "python",
   "nbconvert_exporter": "python",
   "pygments_lexer": "ipython3",
   "version": "3.10.5"
  }
 },
 "nbformat": 4,
 "nbformat_minor": 5
}
