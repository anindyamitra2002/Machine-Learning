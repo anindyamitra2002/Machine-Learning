{
 "cells": [
  {
   "cell_type": "code",
   "execution_count": 1,
   "id": "af2ddf3c",
   "metadata": {},
   "outputs": [],
   "source": [
    "import pandas as pd\n",
    "import numpy as np\n",
    "import seaborn as sns\n",
    "import matplotlib.pyplot as plt\n",
    "import scipy.stats as stats"
   ]
  },
  {
   "cell_type": "code",
   "execution_count": 2,
   "id": "ded367ca",
   "metadata": {},
   "outputs": [],
   "source": [
    "from sklearn.model_selection import train_test_split, StratifiedShuffleSplit, cross_val_score, StratifiedKFold\n",
    "from sklearn.preprocessing import OneHotEncoder,StandardScaler, PowerTransformer, MinMaxScaler\n",
    "from sklearn.compose import ColumnTransformer \n",
    "from sklearn.linear_model import LinearRegression\n",
    "from sklearn.metrics import r2_score,mean_squared_error"
   ]
  },
  {
   "cell_type": "code",
   "execution_count": 3,
   "id": "90549872",
   "metadata": {},
   "outputs": [],
   "source": [
    "df = pd.read_csv('CarPrice_Assignment.csv')"
   ]
  },
  {
   "cell_type": "code",
   "execution_count": 4,
   "id": "e77e2753",
   "metadata": {},
   "outputs": [
    {
     "data": {
      "text/plain": [
       "car_ID             -0.109093\n",
       "symboling          -0.079978\n",
       "wheelbase           0.577816\n",
       "carlength           0.682920\n",
       "carwidth            0.759325\n",
       "carheight           0.119336\n",
       "curbweight          0.835305\n",
       "enginesize          0.874145\n",
       "boreratio           0.553173\n",
       "stroke              0.079443\n",
       "compressionratio    0.067984\n",
       "horsepower          0.808139\n",
       "peakrpm            -0.085267\n",
       "citympg            -0.685751\n",
       "highwaympg         -0.697599\n",
       "price               1.000000\n",
       "dtype: float64"
      ]
     },
     "execution_count": 4,
     "metadata": {},
     "output_type": "execute_result"
    }
   ],
   "source": [
    "df.corrwith(df['price'])"
   ]
  },
  {
   "cell_type": "markdown",
   "id": "e996ed51",
   "metadata": {},
   "source": [
    "## Train Test Splitting"
   ]
  },
  {
   "cell_type": "code",
   "execution_count": 5,
   "id": "9209a433",
   "metadata": {},
   "outputs": [],
   "source": [
    "x = df.drop(columns=['price'])\n",
    "y = df['price']"
   ]
  },
  {
   "cell_type": "code",
   "execution_count": 6,
   "id": "ff6f2c6d",
   "metadata": {},
   "outputs": [],
   "source": [
    "x_sorted = x.drop(columns=['doornumber','car_ID','symboling','compressionratio','CarName','fuelsystem','cylindernumber','enginetype','enginelocation','carbody'])"
   ]
  },
  {
   "cell_type": "code",
   "execution_count": 7,
   "id": "82b4ad7d",
   "metadata": {},
   "outputs": [],
   "source": [
    "x_train, x_test, y_train, y_test = train_test_split(x_sorted,y, test_size=0.2, random_state=42)"
   ]
  },
  {
   "cell_type": "code",
   "execution_count": 8,
   "id": "31d3fddf",
   "metadata": {
    "scrolled": true
   },
   "outputs": [
    {
     "data": {
      "text/html": [
       "<div>\n",
       "<style scoped>\n",
       "    .dataframe tbody tr th:only-of-type {\n",
       "        vertical-align: middle;\n",
       "    }\n",
       "\n",
       "    .dataframe tbody tr th {\n",
       "        vertical-align: top;\n",
       "    }\n",
       "\n",
       "    .dataframe thead th {\n",
       "        text-align: right;\n",
       "    }\n",
       "</style>\n",
       "<table border=\"1\" class=\"dataframe\">\n",
       "  <thead>\n",
       "    <tr style=\"text-align: right;\">\n",
       "      <th></th>\n",
       "      <th>fueltype</th>\n",
       "      <th>aspiration</th>\n",
       "      <th>drivewheel</th>\n",
       "      <th>wheelbase</th>\n",
       "      <th>carlength</th>\n",
       "      <th>carwidth</th>\n",
       "      <th>carheight</th>\n",
       "      <th>curbweight</th>\n",
       "      <th>enginesize</th>\n",
       "      <th>boreratio</th>\n",
       "      <th>stroke</th>\n",
       "      <th>horsepower</th>\n",
       "      <th>peakrpm</th>\n",
       "      <th>citympg</th>\n",
       "      <th>highwaympg</th>\n",
       "    </tr>\n",
       "  </thead>\n",
       "  <tbody>\n",
       "    <tr>\n",
       "      <th>66</th>\n",
       "      <td>diesel</td>\n",
       "      <td>std</td>\n",
       "      <td>rwd</td>\n",
       "      <td>104.9</td>\n",
       "      <td>175.0</td>\n",
       "      <td>66.1</td>\n",
       "      <td>54.4</td>\n",
       "      <td>2700</td>\n",
       "      <td>134</td>\n",
       "      <td>3.43</td>\n",
       "      <td>3.64</td>\n",
       "      <td>72</td>\n",
       "      <td>4200</td>\n",
       "      <td>31</td>\n",
       "      <td>39</td>\n",
       "    </tr>\n",
       "    <tr>\n",
       "      <th>111</th>\n",
       "      <td>gas</td>\n",
       "      <td>std</td>\n",
       "      <td>rwd</td>\n",
       "      <td>107.9</td>\n",
       "      <td>186.7</td>\n",
       "      <td>68.4</td>\n",
       "      <td>56.7</td>\n",
       "      <td>3075</td>\n",
       "      <td>120</td>\n",
       "      <td>3.46</td>\n",
       "      <td>2.19</td>\n",
       "      <td>95</td>\n",
       "      <td>5000</td>\n",
       "      <td>19</td>\n",
       "      <td>24</td>\n",
       "    </tr>\n",
       "    <tr>\n",
       "      <th>153</th>\n",
       "      <td>gas</td>\n",
       "      <td>std</td>\n",
       "      <td>fwd</td>\n",
       "      <td>95.7</td>\n",
       "      <td>169.7</td>\n",
       "      <td>63.6</td>\n",
       "      <td>59.1</td>\n",
       "      <td>2280</td>\n",
       "      <td>92</td>\n",
       "      <td>3.05</td>\n",
       "      <td>3.03</td>\n",
       "      <td>62</td>\n",
       "      <td>4800</td>\n",
       "      <td>31</td>\n",
       "      <td>37</td>\n",
       "    </tr>\n",
       "    <tr>\n",
       "      <th>96</th>\n",
       "      <td>gas</td>\n",
       "      <td>std</td>\n",
       "      <td>fwd</td>\n",
       "      <td>94.5</td>\n",
       "      <td>165.3</td>\n",
       "      <td>63.8</td>\n",
       "      <td>54.5</td>\n",
       "      <td>1971</td>\n",
       "      <td>97</td>\n",
       "      <td>3.15</td>\n",
       "      <td>3.29</td>\n",
       "      <td>69</td>\n",
       "      <td>5200</td>\n",
       "      <td>31</td>\n",
       "      <td>37</td>\n",
       "    </tr>\n",
       "    <tr>\n",
       "      <th>38</th>\n",
       "      <td>gas</td>\n",
       "      <td>std</td>\n",
       "      <td>fwd</td>\n",
       "      <td>96.5</td>\n",
       "      <td>167.5</td>\n",
       "      <td>65.2</td>\n",
       "      <td>53.3</td>\n",
       "      <td>2289</td>\n",
       "      <td>110</td>\n",
       "      <td>3.15</td>\n",
       "      <td>3.58</td>\n",
       "      <td>86</td>\n",
       "      <td>5800</td>\n",
       "      <td>27</td>\n",
       "      <td>33</td>\n",
       "    </tr>\n",
       "    <tr>\n",
       "      <th>...</th>\n",
       "      <td>...</td>\n",
       "      <td>...</td>\n",
       "      <td>...</td>\n",
       "      <td>...</td>\n",
       "      <td>...</td>\n",
       "      <td>...</td>\n",
       "      <td>...</td>\n",
       "      <td>...</td>\n",
       "      <td>...</td>\n",
       "      <td>...</td>\n",
       "      <td>...</td>\n",
       "      <td>...</td>\n",
       "      <td>...</td>\n",
       "      <td>...</td>\n",
       "      <td>...</td>\n",
       "    </tr>\n",
       "    <tr>\n",
       "      <th>106</th>\n",
       "      <td>gas</td>\n",
       "      <td>std</td>\n",
       "      <td>rwd</td>\n",
       "      <td>99.2</td>\n",
       "      <td>178.5</td>\n",
       "      <td>67.9</td>\n",
       "      <td>49.7</td>\n",
       "      <td>3139</td>\n",
       "      <td>181</td>\n",
       "      <td>3.43</td>\n",
       "      <td>3.27</td>\n",
       "      <td>160</td>\n",
       "      <td>5200</td>\n",
       "      <td>19</td>\n",
       "      <td>25</td>\n",
       "    </tr>\n",
       "    <tr>\n",
       "      <th>14</th>\n",
       "      <td>gas</td>\n",
       "      <td>std</td>\n",
       "      <td>rwd</td>\n",
       "      <td>103.5</td>\n",
       "      <td>189.0</td>\n",
       "      <td>66.9</td>\n",
       "      <td>55.7</td>\n",
       "      <td>3055</td>\n",
       "      <td>164</td>\n",
       "      <td>3.31</td>\n",
       "      <td>3.19</td>\n",
       "      <td>121</td>\n",
       "      <td>4250</td>\n",
       "      <td>20</td>\n",
       "      <td>25</td>\n",
       "    </tr>\n",
       "    <tr>\n",
       "      <th>92</th>\n",
       "      <td>gas</td>\n",
       "      <td>std</td>\n",
       "      <td>fwd</td>\n",
       "      <td>94.5</td>\n",
       "      <td>165.3</td>\n",
       "      <td>63.8</td>\n",
       "      <td>54.5</td>\n",
       "      <td>1938</td>\n",
       "      <td>97</td>\n",
       "      <td>3.15</td>\n",
       "      <td>3.29</td>\n",
       "      <td>69</td>\n",
       "      <td>5200</td>\n",
       "      <td>31</td>\n",
       "      <td>37</td>\n",
       "    </tr>\n",
       "    <tr>\n",
       "      <th>179</th>\n",
       "      <td>gas</td>\n",
       "      <td>std</td>\n",
       "      <td>rwd</td>\n",
       "      <td>102.9</td>\n",
       "      <td>183.5</td>\n",
       "      <td>67.7</td>\n",
       "      <td>52.0</td>\n",
       "      <td>3016</td>\n",
       "      <td>171</td>\n",
       "      <td>3.27</td>\n",
       "      <td>3.35</td>\n",
       "      <td>161</td>\n",
       "      <td>5200</td>\n",
       "      <td>19</td>\n",
       "      <td>24</td>\n",
       "    </tr>\n",
       "    <tr>\n",
       "      <th>102</th>\n",
       "      <td>gas</td>\n",
       "      <td>std</td>\n",
       "      <td>fwd</td>\n",
       "      <td>100.4</td>\n",
       "      <td>184.6</td>\n",
       "      <td>66.5</td>\n",
       "      <td>56.1</td>\n",
       "      <td>3296</td>\n",
       "      <td>181</td>\n",
       "      <td>3.43</td>\n",
       "      <td>3.27</td>\n",
       "      <td>152</td>\n",
       "      <td>5200</td>\n",
       "      <td>17</td>\n",
       "      <td>22</td>\n",
       "    </tr>\n",
       "  </tbody>\n",
       "</table>\n",
       "<p>164 rows × 15 columns</p>\n",
       "</div>"
      ],
      "text/plain": [
       "    fueltype aspiration drivewheel  wheelbase  carlength  carwidth  carheight  \\\n",
       "66    diesel        std        rwd      104.9      175.0      66.1       54.4   \n",
       "111      gas        std        rwd      107.9      186.7      68.4       56.7   \n",
       "153      gas        std        fwd       95.7      169.7      63.6       59.1   \n",
       "96       gas        std        fwd       94.5      165.3      63.8       54.5   \n",
       "38       gas        std        fwd       96.5      167.5      65.2       53.3   \n",
       "..       ...        ...        ...        ...        ...       ...        ...   \n",
       "106      gas        std        rwd       99.2      178.5      67.9       49.7   \n",
       "14       gas        std        rwd      103.5      189.0      66.9       55.7   \n",
       "92       gas        std        fwd       94.5      165.3      63.8       54.5   \n",
       "179      gas        std        rwd      102.9      183.5      67.7       52.0   \n",
       "102      gas        std        fwd      100.4      184.6      66.5       56.1   \n",
       "\n",
       "     curbweight  enginesize  boreratio  stroke  horsepower  peakrpm  citympg  \\\n",
       "66         2700         134       3.43    3.64          72     4200       31   \n",
       "111        3075         120       3.46    2.19          95     5000       19   \n",
       "153        2280          92       3.05    3.03          62     4800       31   \n",
       "96         1971          97       3.15    3.29          69     5200       31   \n",
       "38         2289         110       3.15    3.58          86     5800       27   \n",
       "..          ...         ...        ...     ...         ...      ...      ...   \n",
       "106        3139         181       3.43    3.27         160     5200       19   \n",
       "14         3055         164       3.31    3.19         121     4250       20   \n",
       "92         1938          97       3.15    3.29          69     5200       31   \n",
       "179        3016         171       3.27    3.35         161     5200       19   \n",
       "102        3296         181       3.43    3.27         152     5200       17   \n",
       "\n",
       "     highwaympg  \n",
       "66           39  \n",
       "111          24  \n",
       "153          37  \n",
       "96           37  \n",
       "38           33  \n",
       "..          ...  \n",
       "106          25  \n",
       "14           25  \n",
       "92           37  \n",
       "179          24  \n",
       "102          22  \n",
       "\n",
       "[164 rows x 15 columns]"
      ]
     },
     "execution_count": 8,
     "metadata": {},
     "output_type": "execute_result"
    }
   ],
   "source": [
    "x_train"
   ]
  },
  {
   "cell_type": "code",
   "execution_count": 9,
   "id": "b7027f42",
   "metadata": {},
   "outputs": [
    {
     "data": {
      "text/html": [
       "<div>\n",
       "<style scoped>\n",
       "    .dataframe tbody tr th:only-of-type {\n",
       "        vertical-align: middle;\n",
       "    }\n",
       "\n",
       "    .dataframe tbody tr th {\n",
       "        vertical-align: top;\n",
       "    }\n",
       "\n",
       "    .dataframe thead th {\n",
       "        text-align: right;\n",
       "    }\n",
       "</style>\n",
       "<table border=\"1\" class=\"dataframe\">\n",
       "  <thead>\n",
       "    <tr style=\"text-align: right;\">\n",
       "      <th></th>\n",
       "      <th>fueltype</th>\n",
       "      <th>aspiration</th>\n",
       "      <th>drivewheel</th>\n",
       "      <th>wheelbase</th>\n",
       "      <th>carlength</th>\n",
       "      <th>carwidth</th>\n",
       "      <th>carheight</th>\n",
       "      <th>curbweight</th>\n",
       "      <th>enginesize</th>\n",
       "      <th>boreratio</th>\n",
       "      <th>stroke</th>\n",
       "      <th>horsepower</th>\n",
       "      <th>peakrpm</th>\n",
       "      <th>citympg</th>\n",
       "      <th>highwaympg</th>\n",
       "    </tr>\n",
       "  </thead>\n",
       "  <tbody>\n",
       "    <tr>\n",
       "      <th>15</th>\n",
       "      <td>gas</td>\n",
       "      <td>std</td>\n",
       "      <td>rwd</td>\n",
       "      <td>103.5</td>\n",
       "      <td>189.0</td>\n",
       "      <td>66.9</td>\n",
       "      <td>55.7</td>\n",
       "      <td>3230</td>\n",
       "      <td>209</td>\n",
       "      <td>3.62</td>\n",
       "      <td>3.39</td>\n",
       "      <td>182</td>\n",
       "      <td>5400</td>\n",
       "      <td>16</td>\n",
       "      <td>22</td>\n",
       "    </tr>\n",
       "    <tr>\n",
       "      <th>9</th>\n",
       "      <td>gas</td>\n",
       "      <td>turbo</td>\n",
       "      <td>4wd</td>\n",
       "      <td>99.5</td>\n",
       "      <td>178.2</td>\n",
       "      <td>67.9</td>\n",
       "      <td>52.0</td>\n",
       "      <td>3053</td>\n",
       "      <td>131</td>\n",
       "      <td>3.13</td>\n",
       "      <td>3.40</td>\n",
       "      <td>160</td>\n",
       "      <td>5500</td>\n",
       "      <td>16</td>\n",
       "      <td>22</td>\n",
       "    </tr>\n",
       "    <tr>\n",
       "      <th>100</th>\n",
       "      <td>gas</td>\n",
       "      <td>std</td>\n",
       "      <td>fwd</td>\n",
       "      <td>97.2</td>\n",
       "      <td>173.4</td>\n",
       "      <td>65.2</td>\n",
       "      <td>54.7</td>\n",
       "      <td>2302</td>\n",
       "      <td>120</td>\n",
       "      <td>3.33</td>\n",
       "      <td>3.47</td>\n",
       "      <td>97</td>\n",
       "      <td>5200</td>\n",
       "      <td>27</td>\n",
       "      <td>34</td>\n",
       "    </tr>\n",
       "    <tr>\n",
       "      <th>132</th>\n",
       "      <td>gas</td>\n",
       "      <td>std</td>\n",
       "      <td>fwd</td>\n",
       "      <td>99.1</td>\n",
       "      <td>186.6</td>\n",
       "      <td>66.5</td>\n",
       "      <td>56.1</td>\n",
       "      <td>2658</td>\n",
       "      <td>121</td>\n",
       "      <td>3.54</td>\n",
       "      <td>3.07</td>\n",
       "      <td>110</td>\n",
       "      <td>5250</td>\n",
       "      <td>21</td>\n",
       "      <td>28</td>\n",
       "    </tr>\n",
       "    <tr>\n",
       "      <th>68</th>\n",
       "      <td>diesel</td>\n",
       "      <td>turbo</td>\n",
       "      <td>rwd</td>\n",
       "      <td>110.0</td>\n",
       "      <td>190.9</td>\n",
       "      <td>70.3</td>\n",
       "      <td>58.7</td>\n",
       "      <td>3750</td>\n",
       "      <td>183</td>\n",
       "      <td>3.58</td>\n",
       "      <td>3.64</td>\n",
       "      <td>123</td>\n",
       "      <td>4350</td>\n",
       "      <td>22</td>\n",
       "      <td>25</td>\n",
       "    </tr>\n",
       "  </tbody>\n",
       "</table>\n",
       "</div>"
      ],
      "text/plain": [
       "    fueltype aspiration drivewheel  wheelbase  carlength  carwidth  carheight  \\\n",
       "15       gas        std        rwd      103.5      189.0      66.9       55.7   \n",
       "9        gas      turbo        4wd       99.5      178.2      67.9       52.0   \n",
       "100      gas        std        fwd       97.2      173.4      65.2       54.7   \n",
       "132      gas        std        fwd       99.1      186.6      66.5       56.1   \n",
       "68    diesel      turbo        rwd      110.0      190.9      70.3       58.7   \n",
       "\n",
       "     curbweight  enginesize  boreratio  stroke  horsepower  peakrpm  citympg  \\\n",
       "15         3230         209       3.62    3.39         182     5400       16   \n",
       "9          3053         131       3.13    3.40         160     5500       16   \n",
       "100        2302         120       3.33    3.47          97     5200       27   \n",
       "132        2658         121       3.54    3.07         110     5250       21   \n",
       "68         3750         183       3.58    3.64         123     4350       22   \n",
       "\n",
       "     highwaympg  \n",
       "15           22  \n",
       "9            22  \n",
       "100          34  \n",
       "132          28  \n",
       "68           25  "
      ]
     },
     "execution_count": 9,
     "metadata": {},
     "output_type": "execute_result"
    }
   ],
   "source": [
    "x_test.head()"
   ]
  },
  {
   "cell_type": "code",
   "execution_count": 10,
   "id": "44c57616",
   "metadata": {},
   "outputs": [
    {
     "data": {
      "text/html": [
       "<div>\n",
       "<style scoped>\n",
       "    .dataframe tbody tr th:only-of-type {\n",
       "        vertical-align: middle;\n",
       "    }\n",
       "\n",
       "    .dataframe tbody tr th {\n",
       "        vertical-align: top;\n",
       "    }\n",
       "\n",
       "    .dataframe thead th {\n",
       "        text-align: right;\n",
       "    }\n",
       "</style>\n",
       "<table border=\"1\" class=\"dataframe\">\n",
       "  <thead>\n",
       "    <tr style=\"text-align: right;\">\n",
       "      <th></th>\n",
       "      <th>wheelbase</th>\n",
       "      <th>carlength</th>\n",
       "      <th>carwidth</th>\n",
       "      <th>carheight</th>\n",
       "      <th>curbweight</th>\n",
       "      <th>enginesize</th>\n",
       "      <th>boreratio</th>\n",
       "      <th>stroke</th>\n",
       "      <th>horsepower</th>\n",
       "      <th>peakrpm</th>\n",
       "      <th>citympg</th>\n",
       "      <th>highwaympg</th>\n",
       "    </tr>\n",
       "  </thead>\n",
       "  <tbody>\n",
       "    <tr>\n",
       "      <th>count</th>\n",
       "      <td>164.000000</td>\n",
       "      <td>164.000000</td>\n",
       "      <td>164.000000</td>\n",
       "      <td>164.000000</td>\n",
       "      <td>164.000000</td>\n",
       "      <td>164.000000</td>\n",
       "      <td>164.000000</td>\n",
       "      <td>164.000000</td>\n",
       "      <td>164.000000</td>\n",
       "      <td>164.000000</td>\n",
       "      <td>164.000000</td>\n",
       "      <td>164.000000</td>\n",
       "    </tr>\n",
       "    <tr>\n",
       "      <th>mean</th>\n",
       "      <td>98.728659</td>\n",
       "      <td>174.127439</td>\n",
       "      <td>65.922561</td>\n",
       "      <td>53.715854</td>\n",
       "      <td>2556.439024</td>\n",
       "      <td>126.414634</td>\n",
       "      <td>3.320854</td>\n",
       "      <td>3.254909</td>\n",
       "      <td>104.701220</td>\n",
       "      <td>5144.207317</td>\n",
       "      <td>25.073171</td>\n",
       "      <td>30.573171</td>\n",
       "    </tr>\n",
       "    <tr>\n",
       "      <th>std</th>\n",
       "      <td>5.968884</td>\n",
       "      <td>12.080544</td>\n",
       "      <td>2.123469</td>\n",
       "      <td>2.479386</td>\n",
       "      <td>511.935461</td>\n",
       "      <td>40.469014</td>\n",
       "      <td>0.269766</td>\n",
       "      <td>0.317892</td>\n",
       "      <td>40.228058</td>\n",
       "      <td>493.839328</td>\n",
       "      <td>6.164972</td>\n",
       "      <td>6.435199</td>\n",
       "    </tr>\n",
       "    <tr>\n",
       "      <th>min</th>\n",
       "      <td>86.600000</td>\n",
       "      <td>144.600000</td>\n",
       "      <td>61.800000</td>\n",
       "      <td>47.800000</td>\n",
       "      <td>1819.000000</td>\n",
       "      <td>70.000000</td>\n",
       "      <td>2.540000</td>\n",
       "      <td>2.070000</td>\n",
       "      <td>52.000000</td>\n",
       "      <td>4150.000000</td>\n",
       "      <td>13.000000</td>\n",
       "      <td>16.000000</td>\n",
       "    </tr>\n",
       "    <tr>\n",
       "      <th>25%</th>\n",
       "      <td>94.500000</td>\n",
       "      <td>166.675000</td>\n",
       "      <td>64.175000</td>\n",
       "      <td>51.900000</td>\n",
       "      <td>2163.000000</td>\n",
       "      <td>98.000000</td>\n",
       "      <td>3.150000</td>\n",
       "      <td>3.110000</td>\n",
       "      <td>71.500000</td>\n",
       "      <td>4800.000000</td>\n",
       "      <td>19.000000</td>\n",
       "      <td>25.000000</td>\n",
       "    </tr>\n",
       "    <tr>\n",
       "      <th>50%</th>\n",
       "      <td>96.750000</td>\n",
       "      <td>173.100000</td>\n",
       "      <td>65.500000</td>\n",
       "      <td>54.100000</td>\n",
       "      <td>2422.500000</td>\n",
       "      <td>119.500000</td>\n",
       "      <td>3.310000</td>\n",
       "      <td>3.280000</td>\n",
       "      <td>95.000000</td>\n",
       "      <td>5200.000000</td>\n",
       "      <td>24.000000</td>\n",
       "      <td>30.000000</td>\n",
       "    </tr>\n",
       "    <tr>\n",
       "      <th>75%</th>\n",
       "      <td>102.100000</td>\n",
       "      <td>183.200000</td>\n",
       "      <td>66.675000</td>\n",
       "      <td>55.525000</td>\n",
       "      <td>2939.250000</td>\n",
       "      <td>141.000000</td>\n",
       "      <td>3.540000</td>\n",
       "      <td>3.410000</td>\n",
       "      <td>116.000000</td>\n",
       "      <td>5500.000000</td>\n",
       "      <td>30.000000</td>\n",
       "      <td>34.000000</td>\n",
       "    </tr>\n",
       "    <tr>\n",
       "      <th>max</th>\n",
       "      <td>115.600000</td>\n",
       "      <td>202.600000</td>\n",
       "      <td>72.300000</td>\n",
       "      <td>59.800000</td>\n",
       "      <td>4066.000000</td>\n",
       "      <td>326.000000</td>\n",
       "      <td>3.940000</td>\n",
       "      <td>4.170000</td>\n",
       "      <td>288.000000</td>\n",
       "      <td>6600.000000</td>\n",
       "      <td>45.000000</td>\n",
       "      <td>50.000000</td>\n",
       "    </tr>\n",
       "  </tbody>\n",
       "</table>\n",
       "</div>"
      ],
      "text/plain": [
       "        wheelbase   carlength    carwidth   carheight   curbweight  \\\n",
       "count  164.000000  164.000000  164.000000  164.000000   164.000000   \n",
       "mean    98.728659  174.127439   65.922561   53.715854  2556.439024   \n",
       "std      5.968884   12.080544    2.123469    2.479386   511.935461   \n",
       "min     86.600000  144.600000   61.800000   47.800000  1819.000000   \n",
       "25%     94.500000  166.675000   64.175000   51.900000  2163.000000   \n",
       "50%     96.750000  173.100000   65.500000   54.100000  2422.500000   \n",
       "75%    102.100000  183.200000   66.675000   55.525000  2939.250000   \n",
       "max    115.600000  202.600000   72.300000   59.800000  4066.000000   \n",
       "\n",
       "       enginesize   boreratio      stroke  horsepower      peakrpm  \\\n",
       "count  164.000000  164.000000  164.000000  164.000000   164.000000   \n",
       "mean   126.414634    3.320854    3.254909  104.701220  5144.207317   \n",
       "std     40.469014    0.269766    0.317892   40.228058   493.839328   \n",
       "min     70.000000    2.540000    2.070000   52.000000  4150.000000   \n",
       "25%     98.000000    3.150000    3.110000   71.500000  4800.000000   \n",
       "50%    119.500000    3.310000    3.280000   95.000000  5200.000000   \n",
       "75%    141.000000    3.540000    3.410000  116.000000  5500.000000   \n",
       "max    326.000000    3.940000    4.170000  288.000000  6600.000000   \n",
       "\n",
       "          citympg  highwaympg  \n",
       "count  164.000000  164.000000  \n",
       "mean    25.073171   30.573171  \n",
       "std      6.164972    6.435199  \n",
       "min     13.000000   16.000000  \n",
       "25%     19.000000   25.000000  \n",
       "50%     24.000000   30.000000  \n",
       "75%     30.000000   34.000000  \n",
       "max     45.000000   50.000000  "
      ]
     },
     "execution_count": 10,
     "metadata": {},
     "output_type": "execute_result"
    }
   ],
   "source": [
    "x_train.describe()"
   ]
  },
  {
   "cell_type": "code",
   "execution_count": 11,
   "id": "a9d5f824",
   "metadata": {},
   "outputs": [
    {
     "data": {
      "text/plain": [
       "wheelbase     0.506118\n",
       "carlength     0.652071\n",
       "carwidth      0.744310\n",
       "carheight     0.044458\n",
       "curbweight    0.824212\n",
       "enginesize    0.866433\n",
       "boreratio     0.546099\n",
       "stroke        0.023941\n",
       "horsepower    0.810986\n",
       "peakrpm      -0.070017\n",
       "citympg      -0.711245\n",
       "highwaympg   -0.713503\n",
       "dtype: float64"
      ]
     },
     "execution_count": 11,
     "metadata": {},
     "output_type": "execute_result"
    }
   ],
   "source": [
    "x_train.corrwith(y_train)"
   ]
  },
  {
   "cell_type": "code",
   "execution_count": 12,
   "id": "63c67182",
   "metadata": {},
   "outputs": [],
   "source": [
    "def correlation(dataset, thresold):\n",
    "    corr_features = set()\n",
    "    corr_mat = dataset.corr()\n",
    "    for i in range (len(corr_mat.columns)):\n",
    "        for j in range (i):\n",
    "            if abs(corr_mat.iloc[i,j]) > thresold:\n",
    "                col_names = corr_mat.columns[i]\n",
    "                corr_features.add(col_names)\n",
    "    return corr_features"
   ]
  },
  {
   "cell_type": "code",
   "execution_count": 13,
   "id": "552af17c",
   "metadata": {},
   "outputs": [
    {
     "data": {
      "text/plain": [
       "{'carlength',\n",
       " 'carwidth',\n",
       " 'citympg',\n",
       " 'curbweight',\n",
       " 'enginesize',\n",
       " 'highwaympg',\n",
       " 'horsepower'}"
      ]
     },
     "execution_count": 13,
     "metadata": {},
     "output_type": "execute_result"
    }
   ],
   "source": [
    "correlation(x_train,0.7)"
   ]
  },
  {
   "cell_type": "code",
   "execution_count": 14,
   "id": "90d91fae",
   "metadata": {},
   "outputs": [
    {
     "name": "stderr",
     "output_type": "stream",
     "text": [
      "C:\\Users\\Anind\\anaconda3\\lib\\site-packages\\seaborn\\_decorators.py:36: FutureWarning: Pass the following variable as a keyword arg: x. From version 0.12, the only valid positional argument will be `data`, and passing other arguments without an explicit keyword will result in an error or misinterpretation.\n",
      "  warnings.warn(\n"
     ]
    },
    {
     "data": {
      "text/plain": [
       "<AxesSubplot:xlabel='enginesize'>"
      ]
     },
     "execution_count": 14,
     "metadata": {},
     "output_type": "execute_result"
    },
    {
     "data": {
      "image/png": "[encoded data removed]",
      "text/plain": [
       "<Figure size 432x288 with 1 Axes>"
      ]
     },
     "metadata": {
      "needs_background": "light"
     },
     "output_type": "display_data"
    }
   ],
   "source": [
    "sns.boxplot(x_train['enginesize'])"
   ]
  },
  {
   "cell_type": "code",
   "execution_count": 15,
   "id": "e0d28670",
   "metadata": {},
   "outputs": [
    {
     "data": {
      "image/png": "[encoded data removed]",
      "text/plain": [
       "<Figure size 432x288 with 1 Axes>"
      ]
     },
     "metadata": {
      "needs_background": "light"
     },
     "output_type": "display_data"
    },
    {
     "data": {
      "image/png": "[encoded data removed]",
      "text/plain": [
       "<Figure size 432x288 with 1 Axes>"
      ]
     },
     "metadata": {
      "needs_background": "light"
     },
     "output_type": "display_data"
    },
    {
     "data": {
      "image/png": "[encoded data removed]",
      "text/plain": [
       "<Figure size 432x288 with 1 Axes>"
      ]
     },
     "metadata": {
      "needs_background": "light"
     },
     "output_type": "display_data"
    },
    {
     "data": {
      "image/png": "[encoded data removed]",
      "text/plain": [
       "<Figure size 432x288 with 1 Axes>"
      ]
     },
     "metadata": {
      "needs_background": "light"
     },
     "output_type": "display_data"
    },
    {
     "data": {
      "image/png": "[encoded data removed]",
      "text/plain": [
       "<Figure size 432x288 with 1 Axes>"
      ]
     },
     "metadata": {
      "needs_background": "light"
     },
     "output_type": "display_data"
    },
    {
     "data": {
      "image/png": "[encoded data removed]",
      "text/plain": [
       "<Figure size 432x288 with 1 Axes>"
      ]
     },
     "metadata": {
      "needs_background": "light"
     },
     "output_type": "display_data"
    },
    {
     "data": {
      "image/png": "[encoded data removed]",
      "text/plain": [
       "<Figure size 432x288 with 1 Axes>"
      ]
     },
     "metadata": {
      "needs_background": "light"
     },
     "output_type": "display_data"
    },
    {
     "data": {
      "image/png": "[encoded data removed]",
      "text/plain": [
       "<Figure size 432x288 with 1 Axes>"
      ]
     },
     "metadata": {
      "needs_background": "light"
     },
     "output_type": "display_data"
    },
    {
     "data": {
      "image/png": "[encoded data removed]",
      "text/plain": [
       "<Figure size 432x288 with 1 Axes>"
      ]
     },
     "metadata": {
      "needs_background": "light"
     },
     "output_type": "display_data"
    },
    {
     "data": {
      "image/png": "[encoded data removed]",
      "text/plain": [
       "<Figure size 432x288 with 1 Axes>"
      ]
     },
     "metadata": {
      "needs_background": "light"
     },
     "output_type": "display_data"
    },
    {
     "data": {
      "image/png": "[encoded data removed]",
      "text/plain": [
       "<Figure size 432x288 with 1 Axes>"
      ]
     },
     "metadata": {
      "needs_background": "light"
     },
     "output_type": "display_data"
    },
    {
     "data": {
      "image/png": "[encoded data removed]",
      "text/plain": [
       "<Figure size 432x288 with 1 Axes>"
      ]
     },
     "metadata": {
      "needs_background": "light"
     },
     "output_type": "display_data"
    }
   ],
   "source": [
    "numerics = ['int16', 'int32', 'int64', 'float16', 'float32', 'float64']\n",
    "newdf = x_train.select_dtypes(include=numerics)\n",
    "for cols in newdf.columns:\n",
    "    stats.probplot(newdf[cols], dist='norm', plot=plt)\n",
    "    plt.title(cols)\n",
    "    plt.show()"
   ]
  },
  {
   "cell_type": "code",
   "execution_count": 16,
   "id": "db2cd435",
   "metadata": {},
   "outputs": [],
   "source": [
    "new_xtrain_df = x_train.select_dtypes(include=numerics)\n",
    "new_xtest_df = x_test.select_dtypes(include=numerics)"
   ]
  },
  {
   "cell_type": "code",
   "execution_count": 17,
   "id": "3b25dbff",
   "metadata": {},
   "outputs": [],
   "source": [
    "def removeOutliers(df):    \n",
    "    for col in df.columns:\n",
    "        if df[col].dtype != 'O':\n",
    "            Q3 = df[col].quantile(0.75)\n",
    "            Q1 = df[col].quantile(0.25)\n",
    "            iqr = Q3 - Q1\n",
    "            upper_limit = Q3 + 1.5*iqr\n",
    "            lower_limit = Q1 - 1.5*iqr\n",
    "            df[col] = np.where(df[col] > upper_limit,upper_limit,np.where(df[col] < lower_limit,lower_limit,df[col]))\n",
    "    return df"
   ]
  },
  {
   "cell_type": "code",
   "execution_count": 18,
   "id": "4d46e30b",
   "metadata": {},
   "outputs": [],
   "source": [
    "new_x_train = removeOutliers(x_train)\n",
    "# new_x_test = removeOutliers(x_test)"
   ]
  },
  {
   "cell_type": "code",
   "execution_count": 19,
   "id": "4cbfe215",
   "metadata": {},
   "outputs": [
    {
     "data": {
      "text/html": [
       "<div>\n",
       "<style scoped>\n",
       "    .dataframe tbody tr th:only-of-type {\n",
       "        vertical-align: middle;\n",
       "    }\n",
       "\n",
       "    .dataframe tbody tr th {\n",
       "        vertical-align: top;\n",
       "    }\n",
       "\n",
       "    .dataframe thead th {\n",
       "        text-align: right;\n",
       "    }\n",
       "</style>\n",
       "<table border=\"1\" class=\"dataframe\">\n",
       "  <thead>\n",
       "    <tr style=\"text-align: right;\">\n",
       "      <th></th>\n",
       "      <th>fueltype</th>\n",
       "      <th>aspiration</th>\n",
       "      <th>drivewheel</th>\n",
       "      <th>wheelbase</th>\n",
       "      <th>carlength</th>\n",
       "      <th>carwidth</th>\n",
       "      <th>carheight</th>\n",
       "      <th>curbweight</th>\n",
       "      <th>enginesize</th>\n",
       "      <th>boreratio</th>\n",
       "      <th>stroke</th>\n",
       "      <th>horsepower</th>\n",
       "      <th>peakrpm</th>\n",
       "      <th>citympg</th>\n",
       "      <th>highwaympg</th>\n",
       "    </tr>\n",
       "  </thead>\n",
       "  <tbody>\n",
       "    <tr>\n",
       "      <th>66</th>\n",
       "      <td>diesel</td>\n",
       "      <td>std</td>\n",
       "      <td>rwd</td>\n",
       "      <td>104.9</td>\n",
       "      <td>175.0</td>\n",
       "      <td>66.1</td>\n",
       "      <td>54.4</td>\n",
       "      <td>2700.0</td>\n",
       "      <td>134.0</td>\n",
       "      <td>3.43</td>\n",
       "      <td>3.64</td>\n",
       "      <td>72.0</td>\n",
       "      <td>4200.0</td>\n",
       "      <td>31.0</td>\n",
       "      <td>39.0</td>\n",
       "    </tr>\n",
       "    <tr>\n",
       "      <th>111</th>\n",
       "      <td>gas</td>\n",
       "      <td>std</td>\n",
       "      <td>rwd</td>\n",
       "      <td>107.9</td>\n",
       "      <td>186.7</td>\n",
       "      <td>68.4</td>\n",
       "      <td>56.7</td>\n",
       "      <td>3075.0</td>\n",
       "      <td>120.0</td>\n",
       "      <td>3.46</td>\n",
       "      <td>2.66</td>\n",
       "      <td>95.0</td>\n",
       "      <td>5000.0</td>\n",
       "      <td>19.0</td>\n",
       "      <td>24.0</td>\n",
       "    </tr>\n",
       "    <tr>\n",
       "      <th>153</th>\n",
       "      <td>gas</td>\n",
       "      <td>std</td>\n",
       "      <td>fwd</td>\n",
       "      <td>95.7</td>\n",
       "      <td>169.7</td>\n",
       "      <td>63.6</td>\n",
       "      <td>59.1</td>\n",
       "      <td>2280.0</td>\n",
       "      <td>92.0</td>\n",
       "      <td>3.05</td>\n",
       "      <td>3.03</td>\n",
       "      <td>62.0</td>\n",
       "      <td>4800.0</td>\n",
       "      <td>31.0</td>\n",
       "      <td>37.0</td>\n",
       "    </tr>\n",
       "    <tr>\n",
       "      <th>96</th>\n",
       "      <td>gas</td>\n",
       "      <td>std</td>\n",
       "      <td>fwd</td>\n",
       "      <td>94.5</td>\n",
       "      <td>165.3</td>\n",
       "      <td>63.8</td>\n",
       "      <td>54.5</td>\n",
       "      <td>1971.0</td>\n",
       "      <td>97.0</td>\n",
       "      <td>3.15</td>\n",
       "      <td>3.29</td>\n",
       "      <td>69.0</td>\n",
       "      <td>5200.0</td>\n",
       "      <td>31.0</td>\n",
       "      <td>37.0</td>\n",
       "    </tr>\n",
       "    <tr>\n",
       "      <th>38</th>\n",
       "      <td>gas</td>\n",
       "      <td>std</td>\n",
       "      <td>fwd</td>\n",
       "      <td>96.5</td>\n",
       "      <td>167.5</td>\n",
       "      <td>65.2</td>\n",
       "      <td>53.3</td>\n",
       "      <td>2289.0</td>\n",
       "      <td>110.0</td>\n",
       "      <td>3.15</td>\n",
       "      <td>3.58</td>\n",
       "      <td>86.0</td>\n",
       "      <td>5800.0</td>\n",
       "      <td>27.0</td>\n",
       "      <td>33.0</td>\n",
       "    </tr>\n",
       "  </tbody>\n",
       "</table>\n",
       "</div>"
      ],
      "text/plain": [
       "    fueltype aspiration drivewheel  wheelbase  carlength  carwidth  carheight  \\\n",
       "66    diesel        std        rwd      104.9      175.0      66.1       54.4   \n",
       "111      gas        std        rwd      107.9      186.7      68.4       56.7   \n",
       "153      gas        std        fwd       95.7      169.7      63.6       59.1   \n",
       "96       gas        std        fwd       94.5      165.3      63.8       54.5   \n",
       "38       gas        std        fwd       96.5      167.5      65.2       53.3   \n",
       "\n",
       "     curbweight  enginesize  boreratio  stroke  horsepower  peakrpm  citympg  \\\n",
       "66       2700.0       134.0       3.43    3.64        72.0   4200.0     31.0   \n",
       "111      3075.0       120.0       3.46    2.66        95.0   5000.0     19.0   \n",
       "153      2280.0        92.0       3.05    3.03        62.0   4800.0     31.0   \n",
       "96       1971.0        97.0       3.15    3.29        69.0   5200.0     31.0   \n",
       "38       2289.0       110.0       3.15    3.58        86.0   5800.0     27.0   \n",
       "\n",
       "     highwaympg  \n",
       "66         39.0  \n",
       "111        24.0  \n",
       "153        37.0  \n",
       "96         37.0  \n",
       "38         33.0  "
      ]
     },
     "execution_count": 19,
     "metadata": {},
     "output_type": "execute_result"
    }
   ],
   "source": [
    "new_x_train.head()"
   ]
  },
  {
   "cell_type": "code",
   "execution_count": 20,
   "id": "fed43296",
   "metadata": {},
   "outputs": [
    {
     "data": {
      "image/png": "[encoded data removed]",
      "text/plain": [
       "<Figure size 360x360 with 1 Axes>"
      ]
     },
     "metadata": {
      "needs_background": "light"
     },
     "output_type": "display_data"
    },
    {
     "data": {
      "image/png": "[encoded data removed]",
      "text/plain": [
       "<Figure size 360x360 with 1 Axes>"
      ]
     },
     "metadata": {
      "needs_background": "light"
     },
     "output_type": "display_data"
    },
    {
     "data": {
      "image/png": "[encoded data removed]",
      "text/plain": [
       "<Figure size 360x360 with 1 Axes>"
      ]
     },
     "metadata": {
      "needs_background": "light"
     },
     "output_type": "display_data"
    }
   ],
   "source": [
    "for cols in x_train.columns:\n",
    "    if x_train[cols].dtype == 'O':\n",
    "        sns.catplot(x= cols, y= 'price', data= df)"
   ]
  },
  {
   "cell_type": "code",
   "execution_count": 21,
   "id": "76b5dc00",
   "metadata": {},
   "outputs": [
    {
     "data": {
      "text/plain": [
       "(164, 15)"
      ]
     },
     "execution_count": 21,
     "metadata": {},
     "output_type": "execute_result"
    }
   ],
   "source": [
    "x_train.shape"
   ]
  },
  {
   "cell_type": "code",
   "execution_count": 22,
   "id": "162cda57",
   "metadata": {},
   "outputs": [
    {
     "data": {
      "text/html": [
       "<div>\n",
       "<style scoped>\n",
       "    .dataframe tbody tr th:only-of-type {\n",
       "        vertical-align: middle;\n",
       "    }\n",
       "\n",
       "    .dataframe tbody tr th {\n",
       "        vertical-align: top;\n",
       "    }\n",
       "\n",
       "    .dataframe thead th {\n",
       "        text-align: right;\n",
       "    }\n",
       "</style>\n",
       "<table border=\"1\" class=\"dataframe\">\n",
       "  <thead>\n",
       "    <tr style=\"text-align: right;\">\n",
       "      <th></th>\n",
       "      <th>wheelbase</th>\n",
       "      <th>carlength</th>\n",
       "      <th>carwidth</th>\n",
       "      <th>carheight</th>\n",
       "      <th>curbweight</th>\n",
       "      <th>enginesize</th>\n",
       "      <th>boreratio</th>\n",
       "      <th>stroke</th>\n",
       "      <th>horsepower</th>\n",
       "      <th>peakrpm</th>\n",
       "      <th>citympg</th>\n",
       "      <th>highwaympg</th>\n",
       "    </tr>\n",
       "  </thead>\n",
       "  <tbody>\n",
       "    <tr>\n",
       "      <th>count</th>\n",
       "      <td>164.000000</td>\n",
       "      <td>164.000000</td>\n",
       "      <td>164.000000</td>\n",
       "      <td>164.000000</td>\n",
       "      <td>164.000000</td>\n",
       "      <td>164.000000</td>\n",
       "      <td>164.000000</td>\n",
       "      <td>164.000000</td>\n",
       "      <td>164.000000</td>\n",
       "      <td>164.000000</td>\n",
       "      <td>164.000000</td>\n",
       "      <td>164.000000</td>\n",
       "    </tr>\n",
       "    <tr>\n",
       "      <th>mean</th>\n",
       "      <td>98.685976</td>\n",
       "      <td>174.127439</td>\n",
       "      <td>65.863720</td>\n",
       "      <td>53.715854</td>\n",
       "      <td>2556.439024</td>\n",
       "      <td>124.070122</td>\n",
       "      <td>3.321006</td>\n",
       "      <td>3.262409</td>\n",
       "      <td>103.019817</td>\n",
       "      <td>5143.597561</td>\n",
       "      <td>25.073171</td>\n",
       "      <td>30.557927</td>\n",
       "    </tr>\n",
       "    <tr>\n",
       "      <th>std</th>\n",
       "      <td>5.855844</td>\n",
       "      <td>12.080544</td>\n",
       "      <td>1.974003</td>\n",
       "      <td>2.479386</td>\n",
       "      <td>511.935461</td>\n",
       "      <td>32.659420</td>\n",
       "      <td>0.269328</td>\n",
       "      <td>0.272948</td>\n",
       "      <td>35.103124</td>\n",
       "      <td>492.058263</td>\n",
       "      <td>6.164972</td>\n",
       "      <td>6.391712</td>\n",
       "    </tr>\n",
       "    <tr>\n",
       "      <th>min</th>\n",
       "      <td>86.600000</td>\n",
       "      <td>144.600000</td>\n",
       "      <td>61.800000</td>\n",
       "      <td>47.800000</td>\n",
       "      <td>1819.000000</td>\n",
       "      <td>70.000000</td>\n",
       "      <td>2.565000</td>\n",
       "      <td>2.660000</td>\n",
       "      <td>52.000000</td>\n",
       "      <td>4150.000000</td>\n",
       "      <td>13.000000</td>\n",
       "      <td>16.000000</td>\n",
       "    </tr>\n",
       "    <tr>\n",
       "      <th>25%</th>\n",
       "      <td>94.500000</td>\n",
       "      <td>166.675000</td>\n",
       "      <td>64.175000</td>\n",
       "      <td>51.900000</td>\n",
       "      <td>2163.000000</td>\n",
       "      <td>98.000000</td>\n",
       "      <td>3.150000</td>\n",
       "      <td>3.110000</td>\n",
       "      <td>71.500000</td>\n",
       "      <td>4800.000000</td>\n",
       "      <td>19.000000</td>\n",
       "      <td>25.000000</td>\n",
       "    </tr>\n",
       "    <tr>\n",
       "      <th>50%</th>\n",
       "      <td>96.750000</td>\n",
       "      <td>173.100000</td>\n",
       "      <td>65.500000</td>\n",
       "      <td>54.100000</td>\n",
       "      <td>2422.500000</td>\n",
       "      <td>119.500000</td>\n",
       "      <td>3.310000</td>\n",
       "      <td>3.280000</td>\n",
       "      <td>95.000000</td>\n",
       "      <td>5200.000000</td>\n",
       "      <td>24.000000</td>\n",
       "      <td>30.000000</td>\n",
       "    </tr>\n",
       "    <tr>\n",
       "      <th>75%</th>\n",
       "      <td>102.100000</td>\n",
       "      <td>183.200000</td>\n",
       "      <td>66.675000</td>\n",
       "      <td>55.525000</td>\n",
       "      <td>2939.250000</td>\n",
       "      <td>141.000000</td>\n",
       "      <td>3.540000</td>\n",
       "      <td>3.410000</td>\n",
       "      <td>116.000000</td>\n",
       "      <td>5500.000000</td>\n",
       "      <td>30.000000</td>\n",
       "      <td>34.000000</td>\n",
       "    </tr>\n",
       "    <tr>\n",
       "      <th>max</th>\n",
       "      <td>113.500000</td>\n",
       "      <td>202.600000</td>\n",
       "      <td>70.425000</td>\n",
       "      <td>59.800000</td>\n",
       "      <td>4066.000000</td>\n",
       "      <td>205.500000</td>\n",
       "      <td>3.940000</td>\n",
       "      <td>3.860000</td>\n",
       "      <td>182.750000</td>\n",
       "      <td>6550.000000</td>\n",
       "      <td>45.000000</td>\n",
       "      <td>47.500000</td>\n",
       "    </tr>\n",
       "  </tbody>\n",
       "</table>\n",
       "</div>"
      ],
      "text/plain": [
       "        wheelbase   carlength    carwidth   carheight   curbweight  \\\n",
       "count  164.000000  164.000000  164.000000  164.000000   164.000000   \n",
       "mean    98.685976  174.127439   65.863720   53.715854  2556.439024   \n",
       "std      5.855844   12.080544    1.974003    2.479386   511.935461   \n",
       "min     86.600000  144.600000   61.800000   47.800000  1819.000000   \n",
       "25%     94.500000  166.675000   64.175000   51.900000  2163.000000   \n",
       "50%     96.750000  173.100000   65.500000   54.100000  2422.500000   \n",
       "75%    102.100000  183.200000   66.675000   55.525000  2939.250000   \n",
       "max    113.500000  202.600000   70.425000   59.800000  4066.000000   \n",
       "\n",
       "       enginesize   boreratio      stroke  horsepower      peakrpm  \\\n",
       "count  164.000000  164.000000  164.000000  164.000000   164.000000   \n",
       "mean   124.070122    3.321006    3.262409  103.019817  5143.597561   \n",
       "std     32.659420    0.269328    0.272948   35.103124   492.058263   \n",
       "min     70.000000    2.565000    2.660000   52.000000  4150.000000   \n",
       "25%     98.000000    3.150000    3.110000   71.500000  4800.000000   \n",
       "50%    119.500000    3.310000    3.280000   95.000000  5200.000000   \n",
       "75%    141.000000    3.540000    3.410000  116.000000  5500.000000   \n",
       "max    205.500000    3.940000    3.860000  182.750000  6550.000000   \n",
       "\n",
       "          citympg  highwaympg  \n",
       "count  164.000000  164.000000  \n",
       "mean    25.073171   30.557927  \n",
       "std      6.164972    6.391712  \n",
       "min     13.000000   16.000000  \n",
       "25%     19.000000   25.000000  \n",
       "50%     24.000000   30.000000  \n",
       "75%     30.000000   34.000000  \n",
       "max     45.000000   47.500000  "
      ]
     },
     "execution_count": 22,
     "metadata": {},
     "output_type": "execute_result"
    }
   ],
   "source": [
    "x_train.describe()"
   ]
  },
  {
   "cell_type": "code",
   "execution_count": 23,
   "id": "d1de1a55",
   "metadata": {},
   "outputs": [],
   "source": [
    "transformer = ColumnTransformer(transformers=[('scaler', StandardScaler(), ['curbweight','peakrpm','carlength','enginesize','horsepower']),\n",
    "                                ('OHE',OneHotEncoder(drop='first', sparse=False),['aspiration','fueltype','drivewheel']),\n",
    "                                ('Pt',PowerTransformer(),['wheelbase'])], remainder='passthrough')"
   ]
  },
  {
   "cell_type": "code",
   "execution_count": 24,
   "id": "606467dc",
   "metadata": {},
   "outputs": [
    {
     "name": "stderr",
     "output_type": "stream",
     "text": [
      "C:\\Users\\Anind\\anaconda3\\lib\\site-packages\\sklearn\\preprocessing\\_data.py:3253: RuntimeWarning: divide by zero encountered in log\n",
      "  loglike = -n_samples / 2 * np.log(x_trans.var())\n"
     ]
    }
   ],
   "source": [
    "x_train_transformed = transformer.fit_transform(new_x_train)\n",
    "x_test_transformed = transformer.fit_transform(x_test)"
   ]
  },
  {
   "cell_type": "code",
   "execution_count": 25,
   "id": "c0762895",
   "metadata": {},
   "outputs": [
    {
     "data": {
      "text/plain": [
       "(164, 16)"
      ]
     },
     "execution_count": 25,
     "metadata": {},
     "output_type": "execute_result"
    }
   ],
   "source": [
    "x_train_transformed.shape"
   ]
  },
  {
   "cell_type": "code",
   "execution_count": 26,
   "id": "fcf16fcb",
   "metadata": {},
   "outputs": [
    {
     "data": {
      "text/plain": [
       "(41, 16)"
      ]
     },
     "execution_count": 26,
     "metadata": {},
     "output_type": "execute_result"
    }
   ],
   "source": [
    "x_test_transformed.shape"
   ]
  },
  {
   "cell_type": "code",
   "execution_count": 27,
   "id": "f1f4154a",
   "metadata": {},
   "outputs": [],
   "source": [
    "model = LinearRegression()"
   ]
  },
  {
   "cell_type": "code",
   "execution_count": 28,
   "id": "c3d3f16a",
   "metadata": {},
   "outputs": [
    {
     "data": {
      "text/plain": [
       "LinearRegression()"
      ]
     },
     "execution_count": 28,
     "metadata": {},
     "output_type": "execute_result"
    }
   ],
   "source": [
    "model.fit(x_train_transformed,y_train)"
   ]
  },
  {
   "cell_type": "code",
   "execution_count": 29,
   "id": "0fc5f1ff",
   "metadata": {},
   "outputs": [],
   "source": [
    "y_pred = model.predict(x_test_transformed)"
   ]
  },
  {
   "cell_type": "code",
   "execution_count": 30,
   "id": "8147eb20",
   "metadata": {},
   "outputs": [
    {
     "data": {
      "text/plain": [
       "0.8200990066292135"
      ]
     },
     "execution_count": 30,
     "metadata": {},
     "output_type": "execute_result"
    }
   ],
   "source": [
    "r2 = r2_score(y_test,y_pred)\n",
    "r2"
   ]
  },
  {
   "cell_type": "code",
   "execution_count": 31,
   "id": "9ea25bfb",
   "metadata": {},
   "outputs": [],
   "source": [
    "x_transformed = transformer.fit_transform(x_sorted)"
   ]
  },
  {
   "cell_type": "code",
   "execution_count": 32,
   "id": "c8a997a3",
   "metadata": {},
   "outputs": [
    {
     "data": {
      "text/plain": [
       "(205, 16)"
      ]
     },
     "execution_count": 32,
     "metadata": {},
     "output_type": "execute_result"
    }
   ],
   "source": [
    "x_transformed.shape"
   ]
  },
  {
   "cell_type": "code",
   "execution_count": 33,
   "id": "9c222634",
   "metadata": {},
   "outputs": [
    {
     "data": {
      "text/plain": [
       "(41,)"
      ]
     },
     "execution_count": 33,
     "metadata": {},
     "output_type": "execute_result"
    }
   ],
   "source": [
    "y_test.shape"
   ]
  },
  {
   "cell_type": "code",
   "execution_count": 34,
   "id": "782e880d",
   "metadata": {},
   "outputs": [
    {
     "data": {
      "text/plain": [
       "(164,)"
      ]
     },
     "execution_count": 34,
     "metadata": {},
     "output_type": "execute_result"
    }
   ],
   "source": [
    "y_train.shape"
   ]
  },
  {
   "cell_type": "code",
   "execution_count": 35,
   "id": "7e8ebae8",
   "metadata": {},
   "outputs": [
    {
     "data": {
      "text/plain": [
       "(164, 16)"
      ]
     },
     "execution_count": 35,
     "metadata": {},
     "output_type": "execute_result"
    }
   ],
   "source": [
    "x_train_transformed.shape"
   ]
  },
  {
   "cell_type": "code",
   "execution_count": 36,
   "id": "e03d0e8f",
   "metadata": {},
   "outputs": [
    {
     "data": {
      "text/plain": [
       "(41,)"
      ]
     },
     "execution_count": 36,
     "metadata": {},
     "output_type": "execute_result"
    }
   ],
   "source": [
    "y_pred.shape"
   ]
  },
  {
   "cell_type": "code",
   "execution_count": 37,
   "id": "f98e28c4",
   "metadata": {},
   "outputs": [
    {
     "data": {
      "text/plain": [
       "(164, 16)"
      ]
     },
     "execution_count": 37,
     "metadata": {},
     "output_type": "execute_result"
    }
   ],
   "source": [
    "x_train_transformed.shape"
   ]
  },
  {
   "cell_type": "code",
   "execution_count": 38,
   "id": "6a1f4a03",
   "metadata": {},
   "outputs": [
    {
     "data": {
      "text/plain": [
       "0.20676825926308742"
      ]
     },
     "execution_count": 38,
     "metadata": {},
     "output_type": "execute_result"
    }
   ],
   "source": [
    "np.mean(cross_val_score(model,x_transformed,y, cv=10, scoring='r2'))"
   ]
  },
  {
   "cell_type": "code",
   "execution_count": 39,
   "id": "85c75eb7",
   "metadata": {},
   "outputs": [
    {
     "data": {
      "text/plain": [
       "0.8018657978416338"
      ]
     },
     "execution_count": 39,
     "metadata": {},
     "output_type": "execute_result"
    }
   ],
   "source": [
    "R2 = 1-(1-r2)*(164-1)/(164-15-1)\n",
    "R2"
   ]
  },
  {
   "cell_type": "code",
   "execution_count": null,
   "id": "db5658cb",
   "metadata": {},
   "outputs": [],
   "source": []
  }
 ],
 "metadata": {
  "kernelspec": {
   "display_name": "Python 3 (ipykernel)",
   "language": "python",
   "name": "python3"
  },
  "language_info": {
   "codemirror_mode": {
    "name": "ipython",
    "version": 3
   },
   "file_extension": ".py",
   "mimetype": "text/x-python",
   "name": "python",
   "nbconvert_exporter": "python",
   "pygments_lexer": "ipython3",
   "version": "3.9.12"
  }
 },
 "nbformat": 4,
 "nbformat_minor": 5
}
